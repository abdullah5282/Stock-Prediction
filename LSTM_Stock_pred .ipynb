{
 "cells": [
  {
   "cell_type": "code",
   "execution_count": 1,
   "id": "6f1548ce",
   "metadata": {},
   "outputs": [],
   "source": [
    "import math\n",
    "import yfinance as yf\n",
    "import numpy as np\n",
    "import pandas as pd\n",
    "from sklearn.preprocessing import MinMaxScaler \n",
    "import matplotlib.pyplot as plt\n",
    "import tensorflow as tf\n",
    "from tensorflow import keras\n",
    "from tensorflow.keras import layers"
   ]
  },
  {
   "cell_type": "code",
   "execution_count": 2,
   "id": "ed3157ad",
   "metadata": {},
   "outputs": [
    {
     "name": "stdout",
     "output_type": "stream",
     "text": [
      "[*********************100%***********************]  1 of 1 completed\n"
     ]
    }
   ],
   "source": [
    "stock_data = yf.download('TCS',start='2012-01-01',end='2022-12-31')\n",
    "# stock_data = yf.download('LT.NS',start='2012-01-01',end='2022-12-31')\n",
    "# stock_data = yf.download('HCL',start='2012-01-01',end='2022-12-31')\n",
    "# stock_data = yf.download('WIPRO.NS',start='2012-01-01',end='2022-12-31')\n",
    "# stock_data = yf.download('TECHM.NS',start='2012-01-01',end='2022-12-31')\n",
    "# stock_data = yf.download('REDINGTON.NS',start='2012-01-01',end='2022-12-31')\n",
    "# stock_data = yf.download('ITC',start='2012-01-01',end='2022-12-31')\n",
    "# stock_data = yf.download('CYIENT.NS',start='2012-01-01',end='2022-12-31')"
   ]
  },
  {
   "cell_type": "code",
   "execution_count": 3,
   "id": "2ea701ec",
   "metadata": {},
   "outputs": [],
   "source": [
    "close_prices = stock_data['Close']\n",
    "values = close_prices.values\n",
    "training_data_len = math.ceil(len(values)* 0.8)\n",
    "\n",
    "scaler = MinMaxScaler(feature_range=(0,1))\n",
    "scaled_data = scaler.fit_transform(values.reshape(-1,1))\n",
    "train_data = scaled_data[0: training_data_len, :]\n",
    "\n",
    "x_train = []\n",
    "y_train = []\n",
    "\n",
    "for i in range(60, len(train_data)):\n",
    "    x_train.append(train_data[i-60:i, 0])\n",
    "    y_train.append(train_data[i, 0])\n",
    "    \n",
    "x_train, y_train = np.array(x_train), np.array(y_train)\n",
    "x_train = np.reshape(x_train, (x_train.shape[0], x_train.shape[1], 1))"
   ]
  },
  {
   "cell_type": "code",
   "execution_count": 4,
   "id": "fc0672dc",
   "metadata": {},
   "outputs": [],
   "source": [
    "test_data = scaled_data[training_data_len-60: , : ]\n",
    "x_test = []\n",
    "y_test = values[training_data_len:]\n",
    "\n",
    "for i in range(60, len(test_data)):\n",
    "  x_test.append(test_data[i-60:i, 0])\n",
    "\n",
    "x_test = np.array(x_test)\n",
    "x_test = np.reshape(x_test, (x_test.shape[0], x_test.shape[1], 1))"
   ]
  },
  {
   "cell_type": "code",
   "execution_count": 5,
   "id": "965dc85c",
   "metadata": {},
   "outputs": [
    {
     "name": "stdout",
     "output_type": "stream",
     "text": [
      "Model: \"sequential\"\n",
      "_________________________________________________________________\n",
      " Layer (type)                Output Shape              Param #   \n",
      "=================================================================\n",
      " lstm (LSTM)                 (None, 60, 100)           40800     \n",
      "                                                                 \n",
      " lstm_1 (LSTM)               (None, 100)               80400     \n",
      "                                                                 \n",
      " dense (Dense)               (None, 25)                2525      \n",
      "                                                                 \n",
      " dense_1 (Dense)             (None, 1)                 26        \n",
      "                                                                 \n",
      "=================================================================\n",
      "Total params: 123,751\n",
      "Trainable params: 123,751\n",
      "Non-trainable params: 0\n",
      "_________________________________________________________________\n"
     ]
    }
   ],
   "source": [
    "model = keras.Sequential()\n",
    "model.add(layers.LSTM(100, return_sequences=True, input_shape=(x_train.shape[1], 1)))\n",
    "model.add(layers.LSTM(100, return_sequences=False))\n",
    "model.add(layers.Dense(25))\n",
    "model.add(layers.Dense(1))\n",
    "model.summary()"
   ]
  },
  {
   "cell_type": "code",
   "execution_count": 6,
   "id": "c1f9a3fe",
   "metadata": {},
   "outputs": [
    {
     "name": "stdout",
     "output_type": "stream",
     "text": [
      "Epoch 1/25\n",
      "60/60 [==============================] - 8s 67ms/step - loss: 0.0028\n",
      "Epoch 2/25\n",
      "60/60 [==============================] - 4s 64ms/step - loss: 4.9431e-04\n",
      "Epoch 3/25\n",
      "60/60 [==============================] - 4s 65ms/step - loss: 5.2771e-04\n",
      "Epoch 4/25\n",
      "60/60 [==============================] - 4s 66ms/step - loss: 3.9466e-04\n",
      "Epoch 5/25\n",
      "60/60 [==============================] - 4s 65ms/step - loss: 3.6043e-04\n",
      "Epoch 6/25\n",
      "60/60 [==============================] - 4s 65ms/step - loss: 3.8191e-04\n",
      "Epoch 7/25\n",
      "60/60 [==============================] - 4s 66ms/step - loss: 3.2622e-04\n",
      "Epoch 8/25\n",
      "60/60 [==============================] - 4s 66ms/step - loss: 2.6971e-04\n",
      "Epoch 9/25\n",
      "60/60 [==============================] - 4s 64ms/step - loss: 3.0519e-04\n",
      "Epoch 10/25\n",
      "60/60 [==============================] - 4s 64ms/step - loss: 2.7772e-04\n",
      "Epoch 11/25\n",
      "60/60 [==============================] - 4s 65ms/step - loss: 3.0841e-04\n",
      "Epoch 12/25\n",
      "60/60 [==============================] - 4s 64ms/step - loss: 2.8229e-04\n",
      "Epoch 13/25\n",
      "60/60 [==============================] - 4s 66ms/step - loss: 2.2873e-04\n",
      "Epoch 14/25\n",
      "60/60 [==============================] - 4s 63ms/step - loss: 2.0867e-04\n",
      "Epoch 15/25\n",
      "60/60 [==============================] - 4s 62ms/step - loss: 1.9133e-04\n",
      "Epoch 16/25\n",
      "60/60 [==============================] - 4s 62ms/step - loss: 2.0097e-04\n",
      "Epoch 17/25\n",
      "60/60 [==============================] - 4s 63ms/step - loss: 1.7233e-04\n",
      "Epoch 18/25\n",
      "60/60 [==============================] - 4s 63ms/step - loss: 1.6097e-04\n",
      "Epoch 19/25\n",
      "60/60 [==============================] - 4s 63ms/step - loss: 1.5787e-04\n",
      "Epoch 20/25\n",
      "60/60 [==============================] - 4s 65ms/step - loss: 1.4743e-04\n",
      "Epoch 21/25\n",
      "60/60 [==============================] - 4s 64ms/step - loss: 1.4261e-04\n",
      "Epoch 22/25\n",
      "60/60 [==============================] - 4s 62ms/step - loss: 1.5249e-04\n",
      "Epoch 23/25\n",
      "60/60 [==============================] - 4s 62ms/step - loss: 1.4111e-04\n",
      "Epoch 24/25\n",
      "60/60 [==============================] - 4s 61ms/step - loss: 1.4957e-04\n",
      "Epoch 25/25\n",
      "60/60 [==============================] - 4s 63ms/step - loss: 1.3817e-04\n"
     ]
    },
    {
     "data": {
      "text/plain": [
       "<keras.callbacks.History at 0x238141f1b50>"
      ]
     },
     "execution_count": 6,
     "metadata": {},
     "output_type": "execute_result"
    }
   ],
   "source": [
    "model.compile(optimizer='adam', loss='mean_squared_error')\n",
    "model.fit(x_train, y_train, batch_size= 30, epochs=25)"
   ]
  },
  {
   "cell_type": "code",
   "execution_count": 13,
   "id": "9982a309",
   "metadata": {},
   "outputs": [
    {
     "name": "stdout",
     "output_type": "stream",
     "text": [
      "56/56 [==============================] - 1s 22ms/step\n"
     ]
    }
   ],
   "source": [
    "predict=model.predict(x_train)"
   ]
  },
  {
   "cell_type": "code",
   "execution_count": 15,
   "id": "bc4eb4be",
   "metadata": {},
   "outputs": [],
   "source": [
    "predict=scaler.inverse_transform(predict)"
   ]
  },
  {
   "cell_type": "code",
   "execution_count": 7,
   "id": "6f4f09b5",
   "metadata": {},
   "outputs": [
    {
     "name": "stdout",
     "output_type": "stream",
     "text": [
      "15/15 [==============================] - 1s 20ms/step\n"
     ]
    },
    {
     "data": {
      "text/plain": [
       "0.13159213097131692"
      ]
     },
     "execution_count": 7,
     "metadata": {},
     "output_type": "execute_result"
    }
   ],
   "source": [
    "predictions = model.predict(x_test)\n",
    "predictions = scaler.inverse_transform(predictions)\n",
    "rmse = np.sqrt(np.mean(predictions - y_test)**2)\n",
    "rmse"
   ]
  },
  {
   "cell_type": "code",
   "execution_count": 8,
   "id": "a153ad8b",
   "metadata": {},
   "outputs": [
    {
     "data": {
      "text/plain": [
       "<AxesSubplot:xlabel='Date'>"
      ]
     },
     "execution_count": 8,
     "metadata": {},
     "output_type": "execute_result"
    },
    {
     "data": {
      "image/png": "[encoded data removed]",
      "text/plain": [
       "<Figure size 432x288 with 1 Axes>"
      ]
     },
     "metadata": {
      "needs_background": "light"
     },
     "output_type": "display_data"
    }
   ],
   "source": [
    "close_prices.plot()"
   ]
  },
  {
   "cell_type": "code",
   "execution_count": null,
   "id": "047a5f71",
   "metadata": {},
   "outputs": [],
   "source": []
  }
 ],
 "metadata": {
  "kernelspec": {
   "display_name": "Python 3 (ipykernel)",
   "language": "python",
   "name": "python3"
  },
  "language_info": {
   "codemirror_mode": {
    "name": "ipython",
    "version": 3
   },
   "file_extension": ".py",
   "mimetype": "text/x-python",
   "name": "python",
   "nbconvert_exporter": "python",
   "pygments_lexer": "ipython3",
   "version": "3.9.7"
  }
 },
 "nbformat": 4,
 "nbformat_minor": 5
}
