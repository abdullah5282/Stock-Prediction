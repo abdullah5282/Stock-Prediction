{
 "cells": [
  {
   "cell_type": "code",
   "execution_count": 1,
   "id": "fd6c2d37",
   "metadata": {},
   "outputs": [
    {
     "name": "stdout",
     "output_type": "stream",
     "text": [
      "Collecting pmdarima\n",
      "  Downloading pmdarima-2.0.2-cp39-cp39-win_amd64.whl (572 kB)\n",
      "     -------------------------------------- 572.0/572.0 KB 2.0 MB/s eta 0:00:00\n",
      "Collecting statsmodels>=0.13.2\n",
      "  Downloading statsmodels-0.13.5-cp39-cp39-win_amd64.whl (9.2 MB)\n",
      "     ---------------------------------------- 9.2/9.2 MB 1.2 MB/s eta 0:00:00\n",
      "Requirement already satisfied: setuptools!=50.0.0,>=38.6.0 in f:\\python 3.9.7\\lib\\site-packages (from pmdarima) (57.4.0)\n",
      "Collecting Cython!=0.29.18,!=0.29.31,>=0.29\n",
      "  Downloading Cython-0.29.33-py2.py3-none-any.whl (987 kB)\n",
      "     -------------------------------------- 987.3/987.3 KB 1.3 MB/s eta 0:00:00\n",
      "Requirement already satisfied: urllib3 in f:\\python 3.9.7\\lib\\site-packages (from pmdarima) (1.26.9)\n",
      "Requirement already satisfied: scipy>=1.3.2 in f:\\python 3.9.7\\lib\\site-packages (from pmdarima) (1.7.1)\n",
      "Requirement already satisfied: pandas>=0.19 in f:\\python 3.9.7\\lib\\site-packages (from pmdarima) (1.3.3)\n",
      "Requirement already satisfied: numpy>=1.21.2 in f:\\python 3.9.7\\lib\\site-packages (from pmdarima) (1.21.2)\n",
      "Requirement already satisfied: joblib>=0.11 in f:\\python 3.9.7\\lib\\site-packages (from pmdarima) (1.0.1)\n",
      "Requirement already satisfied: scikit-learn>=0.22 in f:\\python 3.9.7\\lib\\site-packages (from pmdarima) (0.24.2)\n",
      "Requirement already satisfied: python-dateutil>=2.7.3 in f:\\python 3.9.7\\lib\\site-packages (from pandas>=0.19->pmdarima) (2.8.2)\n",
      "Requirement already satisfied: pytz>=2017.3 in f:\\python 3.9.7\\lib\\site-packages (from pandas>=0.19->pmdarima) (2022.7.1)\n",
      "Requirement already satisfied: threadpoolctl>=2.0.0 in f:\\python 3.9.7\\lib\\site-packages (from scikit-learn>=0.22->pmdarima) (2.2.0)\n",
      "Requirement already satisfied: packaging>=21.3 in f:\\python 3.9.7\\lib\\site-packages (from statsmodels>=0.13.2->pmdarima) (21.3)\n",
      "Collecting patsy>=0.5.2\n",
      "  Downloading patsy-0.5.3-py2.py3-none-any.whl (233 kB)\n",
      "     -------------------------------------- 233.8/233.8 KB 1.0 MB/s eta 0:00:00\n",
      "Requirement already satisfied: pyparsing!=3.0.5,>=2.0.2 in f:\\python 3.9.7\\lib\\site-packages (from packaging>=21.3->statsmodels>=0.13.2->pmdarima) (2.4.7)\n",
      "Requirement already satisfied: six in f:\\python 3.9.7\\lib\\site-packages (from patsy>=0.5.2->statsmodels>=0.13.2->pmdarima) (1.16.0)\n",
      "Installing collected packages: patsy, Cython, statsmodels, pmdarima\n",
      "Successfully installed Cython-0.29.33 patsy-0.5.3 pmdarima-2.0.2 statsmodels-0.13.5\n",
      "Note: you may need to restart the kernel to use updated packages.\n"
     ]
    },
    {
     "name": "stderr",
     "output_type": "stream",
     "text": [
      "WARNING: You are using pip version 22.0.4; however, version 23.0.1 is available.\n",
      "You should consider upgrading via the 'F:\\Python 3.9.7\\python.exe -m pip install --upgrade pip' command.\n"
     ]
    }
   ],
   "source": [
    "pip install pmdarima"
   ]
  },
  {
   "cell_type": "code",
   "execution_count": 1,
   "id": "7667d351",
   "metadata": {},
   "outputs": [],
   "source": [
    "import pandas as pd\n",
    "import numpy as np"
   ]
  },
  {
   "cell_type": "code",
   "execution_count": 2,
   "id": "42f582bf",
   "metadata": {},
   "outputs": [],
   "source": [
    "import yfinance as yf"
   ]
  },
  {
   "cell_type": "code",
   "execution_count": 3,
   "id": "487f8995",
   "metadata": {},
   "outputs": [
    {
     "name": "stdout",
     "output_type": "stream",
     "text": [
      "[*********************100%***********************]  1 of 1 completed\n"
     ]
    }
   ],
   "source": [
    "stock_data = yf.download('TCS',start='2012-01-01',end='2022-12-31')\n",
    "# stock_data = yf.download('LT.NS',start='2012-01-01',end='2022-12-31')\n",
    "# stock_data = yf.download('HCL',start='2012-01-01',end='2022-12-31')\n",
    "# stock_data = yf.download('WIPRO.NS',start='2012-01-01',end='2022-12-31')\n",
    "# stock_data = yf.download('TECHM.NS',start='2012-01-01',end='2022-12-31')\n",
    "# stock_data = yf.download('REDINGTON.NS',start='2012-01-01',end='2022-12-31')\n",
    "# stock_data = yf.download('ITC',start='2012-01-01',end='2022-12-31')\n",
    "# stock_data = yf.download('CYIENT.NS',start='2012-01-01',end='2022-12-31')"
   ]
  },
  {
   "cell_type": "code",
   "execution_count": 8,
   "id": "3b1094f7",
   "metadata": {},
   "outputs": [
    {
     "ename": "AttributeError",
     "evalue": "'str' object has no attribute 'parse_dates'",
     "output_type": "error",
     "traceback": [
      "\u001b[1;31m---------------------------------------------------------------------------\u001b[0m",
      "\u001b[1;31mAttributeError\u001b[0m                            Traceback (most recent call last)",
      "Input \u001b[1;32mIn [8]\u001b[0m, in \u001b[0;36m<cell line: 1>\u001b[1;34m()\u001b[0m\n\u001b[1;32m----> 1\u001b[0m stock_data\u001b[38;5;241m.\u001b[39mindex_col\u001b[38;5;241m=\u001b[39m\u001b[38;5;124m'\u001b[39m\u001b[38;5;124mDATE\u001b[39m\u001b[38;5;124m'\u001b[39m\u001b[38;5;241m.\u001b[39mparse_dates\u001b[38;5;241m=\u001b[39m\u001b[38;5;28;01mTrue\u001b[39;00m\n",
      "\u001b[1;31mAttributeError\u001b[0m: 'str' object has no attribute 'parse_dates'"
     ]
    }
   ],
   "source": [
    "stock_data.index_col='DATE'.parse_dates=True"
   ]
  },
  {
   "cell_type": "code",
   "execution_count": 10,
   "id": "e75eb331",
   "metadata": {},
   "outputs": [],
   "source": [
    "stock_data.parse_dates=True"
   ]
  },
  {
   "cell_type": "code",
   "execution_count": 4,
   "id": "44e0fa5c",
   "metadata": {},
   "outputs": [
    {
     "data": {
      "text/html": [
       "<div>\n",
       "<style scoped>\n",
       "    .dataframe tbody tr th:only-of-type {\n",
       "        vertical-align: middle;\n",
       "    }\n",
       "\n",
       "    .dataframe tbody tr th {\n",
       "        vertical-align: top;\n",
       "    }\n",
       "\n",
       "    .dataframe thead th {\n",
       "        text-align: right;\n",
       "    }\n",
       "</style>\n",
       "<table border=\"1\" class=\"dataframe\">\n",
       "  <thead>\n",
       "    <tr style=\"text-align: right;\">\n",
       "      <th></th>\n",
       "      <th>Open</th>\n",
       "      <th>High</th>\n",
       "      <th>Low</th>\n",
       "      <th>Close</th>\n",
       "      <th>Adj Close</th>\n",
       "      <th>Volume</th>\n",
       "    </tr>\n",
       "    <tr>\n",
       "      <th>Date</th>\n",
       "      <th></th>\n",
       "      <th></th>\n",
       "      <th></th>\n",
       "      <th></th>\n",
       "      <th></th>\n",
       "      <th></th>\n",
       "    </tr>\n",
       "  </thead>\n",
       "  <tbody>\n",
       "    <tr>\n",
       "      <th>2013-11-01 00:00:00-04:00</th>\n",
       "      <td>35.000000</td>\n",
       "      <td>37.000000</td>\n",
       "      <td>32.099998</td>\n",
       "      <td>36.200001</td>\n",
       "      <td>33.839130</td>\n",
       "      <td>14667600</td>\n",
       "    </tr>\n",
       "    <tr>\n",
       "      <th>2013-11-04 00:00:00-05:00</th>\n",
       "      <td>36.799999</td>\n",
       "      <td>36.799999</td>\n",
       "      <td>34.689999</td>\n",
       "      <td>35.349998</td>\n",
       "      <td>33.044563</td>\n",
       "      <td>1586600</td>\n",
       "    </tr>\n",
       "    <tr>\n",
       "      <th>2013-11-05 00:00:00-05:00</th>\n",
       "      <td>35.110001</td>\n",
       "      <td>35.500000</td>\n",
       "      <td>34.820000</td>\n",
       "      <td>35.349998</td>\n",
       "      <td>33.044563</td>\n",
       "      <td>337700</td>\n",
       "    </tr>\n",
       "    <tr>\n",
       "      <th>2013-11-06 00:00:00-05:00</th>\n",
       "      <td>35.610001</td>\n",
       "      <td>36.490002</td>\n",
       "      <td>35.610001</td>\n",
       "      <td>35.900002</td>\n",
       "      <td>33.558697</td>\n",
       "      <td>549600</td>\n",
       "    </tr>\n",
       "    <tr>\n",
       "      <th>2013-11-07 00:00:00-05:00</th>\n",
       "      <td>36.799999</td>\n",
       "      <td>36.799999</td>\n",
       "      <td>34.119999</td>\n",
       "      <td>35.310001</td>\n",
       "      <td>33.007175</td>\n",
       "      <td>883700</td>\n",
       "    </tr>\n",
       "  </tbody>\n",
       "</table>\n",
       "</div>"
      ],
      "text/plain": [
       "                                Open       High        Low      Close  \\\n",
       "Date                                                                    \n",
       "2013-11-01 00:00:00-04:00  35.000000  37.000000  32.099998  36.200001   \n",
       "2013-11-04 00:00:00-05:00  36.799999  36.799999  34.689999  35.349998   \n",
       "2013-11-05 00:00:00-05:00  35.110001  35.500000  34.820000  35.349998   \n",
       "2013-11-06 00:00:00-05:00  35.610001  36.490002  35.610001  35.900002   \n",
       "2013-11-07 00:00:00-05:00  36.799999  36.799999  34.119999  35.310001   \n",
       "\n",
       "                           Adj Close    Volume  \n",
       "Date                                            \n",
       "2013-11-01 00:00:00-04:00  33.839130  14667600  \n",
       "2013-11-04 00:00:00-05:00  33.044563   1586600  \n",
       "2013-11-05 00:00:00-05:00  33.044563    337700  \n",
       "2013-11-06 00:00:00-05:00  33.558697    549600  \n",
       "2013-11-07 00:00:00-05:00  33.007175    883700  "
      ]
     },
     "execution_count": 4,
     "metadata": {},
     "output_type": "execute_result"
    }
   ],
   "source": [
    "stock_data.head()"
   ]
  },
  {
   "cell_type": "code",
   "execution_count": 5,
   "id": "64e9c569",
   "metadata": {},
   "outputs": [
    {
     "data": {
      "text/html": [
       "<div>\n",
       "<style scoped>\n",
       "    .dataframe tbody tr th:only-of-type {\n",
       "        vertical-align: middle;\n",
       "    }\n",
       "\n",
       "    .dataframe tbody tr th {\n",
       "        vertical-align: top;\n",
       "    }\n",
       "\n",
       "    .dataframe thead th {\n",
       "        text-align: right;\n",
       "    }\n",
       "</style>\n",
       "<table border=\"1\" class=\"dataframe\">\n",
       "  <thead>\n",
       "    <tr style=\"text-align: right;\">\n",
       "      <th></th>\n",
       "      <th>Open</th>\n",
       "      <th>High</th>\n",
       "      <th>Low</th>\n",
       "      <th>Close</th>\n",
       "      <th>Adj Close</th>\n",
       "      <th>Volume</th>\n",
       "    </tr>\n",
       "    <tr>\n",
       "      <th>Date</th>\n",
       "      <th></th>\n",
       "      <th></th>\n",
       "      <th></th>\n",
       "      <th></th>\n",
       "      <th></th>\n",
       "      <th></th>\n",
       "    </tr>\n",
       "  </thead>\n",
       "  <tbody>\n",
       "    <tr>\n",
       "      <th>2022-12-23 00:00:00-05:00</th>\n",
       "      <td>4.18</td>\n",
       "      <td>4.32</td>\n",
       "      <td>4.15</td>\n",
       "      <td>4.26</td>\n",
       "      <td>4.26</td>\n",
       "      <td>225000</td>\n",
       "    </tr>\n",
       "    <tr>\n",
       "      <th>2022-12-27 00:00:00-05:00</th>\n",
       "      <td>4.23</td>\n",
       "      <td>4.26</td>\n",
       "      <td>4.14</td>\n",
       "      <td>4.21</td>\n",
       "      <td>4.21</td>\n",
       "      <td>319200</td>\n",
       "    </tr>\n",
       "    <tr>\n",
       "      <th>2022-12-28 00:00:00-05:00</th>\n",
       "      <td>4.17</td>\n",
       "      <td>4.30</td>\n",
       "      <td>4.13</td>\n",
       "      <td>4.15</td>\n",
       "      <td>4.15</td>\n",
       "      <td>239500</td>\n",
       "    </tr>\n",
       "    <tr>\n",
       "      <th>2022-12-29 00:00:00-05:00</th>\n",
       "      <td>4.15</td>\n",
       "      <td>4.35</td>\n",
       "      <td>4.11</td>\n",
       "      <td>4.30</td>\n",
       "      <td>4.30</td>\n",
       "      <td>249400</td>\n",
       "    </tr>\n",
       "    <tr>\n",
       "      <th>2022-12-30 00:00:00-05:00</th>\n",
       "      <td>4.21</td>\n",
       "      <td>4.40</td>\n",
       "      <td>4.20</td>\n",
       "      <td>4.31</td>\n",
       "      <td>4.31</td>\n",
       "      <td>447700</td>\n",
       "    </tr>\n",
       "  </tbody>\n",
       "</table>\n",
       "</div>"
      ],
      "text/plain": [
       "                           Open  High   Low  Close  Adj Close  Volume\n",
       "Date                                                                 \n",
       "2022-12-23 00:00:00-05:00  4.18  4.32  4.15   4.26       4.26  225000\n",
       "2022-12-27 00:00:00-05:00  4.23  4.26  4.14   4.21       4.21  319200\n",
       "2022-12-28 00:00:00-05:00  4.17  4.30  4.13   4.15       4.15  239500\n",
       "2022-12-29 00:00:00-05:00  4.15  4.35  4.11   4.30       4.30  249400\n",
       "2022-12-30 00:00:00-05:00  4.21  4.40  4.20   4.31       4.31  447700"
      ]
     },
     "execution_count": 5,
     "metadata": {},
     "output_type": "execute_result"
    }
   ],
   "source": [
    "stock_data.tail()"
   ]
  },
  {
   "cell_type": "code",
   "execution_count": 6,
   "id": "b53de86d",
   "metadata": {},
   "outputs": [
    {
     "data": {
      "text/plain": [
       "(2307, 6)"
      ]
     },
     "execution_count": 6,
     "metadata": {},
     "output_type": "execute_result"
    }
   ],
   "source": [
    "stock_data.shape"
   ]
  },
  {
   "cell_type": "code",
   "execution_count": 7,
   "id": "343635fe",
   "metadata": {},
   "outputs": [
    {
     "data": {
      "text/html": [
       "<div>\n",
       "<style scoped>\n",
       "    .dataframe tbody tr th:only-of-type {\n",
       "        vertical-align: middle;\n",
       "    }\n",
       "\n",
       "    .dataframe tbody tr th {\n",
       "        vertical-align: top;\n",
       "    }\n",
       "\n",
       "    .dataframe thead th {\n",
       "        text-align: right;\n",
       "    }\n",
       "</style>\n",
       "<table border=\"1\" class=\"dataframe\">\n",
       "  <thead>\n",
       "    <tr style=\"text-align: right;\">\n",
       "      <th></th>\n",
       "      <th>Open</th>\n",
       "      <th>High</th>\n",
       "      <th>Low</th>\n",
       "      <th>Close</th>\n",
       "      <th>Adj Close</th>\n",
       "      <th>Volume</th>\n",
       "    </tr>\n",
       "    <tr>\n",
       "      <th>Date</th>\n",
       "      <th></th>\n",
       "      <th></th>\n",
       "      <th></th>\n",
       "      <th></th>\n",
       "      <th></th>\n",
       "      <th></th>\n",
       "    </tr>\n",
       "  </thead>\n",
       "  <tbody>\n",
       "    <tr>\n",
       "      <th>2013-11-01 00:00:00-04:00</th>\n",
       "      <td>35.000000</td>\n",
       "      <td>37.000000</td>\n",
       "      <td>32.099998</td>\n",
       "      <td>36.200001</td>\n",
       "      <td>33.839130</td>\n",
       "      <td>14667600</td>\n",
       "    </tr>\n",
       "    <tr>\n",
       "      <th>2013-11-04 00:00:00-05:00</th>\n",
       "      <td>36.799999</td>\n",
       "      <td>36.799999</td>\n",
       "      <td>34.689999</td>\n",
       "      <td>35.349998</td>\n",
       "      <td>33.044563</td>\n",
       "      <td>1586600</td>\n",
       "    </tr>\n",
       "    <tr>\n",
       "      <th>2013-11-05 00:00:00-05:00</th>\n",
       "      <td>35.110001</td>\n",
       "      <td>35.500000</td>\n",
       "      <td>34.820000</td>\n",
       "      <td>35.349998</td>\n",
       "      <td>33.044563</td>\n",
       "      <td>337700</td>\n",
       "    </tr>\n",
       "    <tr>\n",
       "      <th>2013-11-06 00:00:00-05:00</th>\n",
       "      <td>35.610001</td>\n",
       "      <td>36.490002</td>\n",
       "      <td>35.610001</td>\n",
       "      <td>35.900002</td>\n",
       "      <td>33.558697</td>\n",
       "      <td>549600</td>\n",
       "    </tr>\n",
       "    <tr>\n",
       "      <th>2013-11-07 00:00:00-05:00</th>\n",
       "      <td>36.799999</td>\n",
       "      <td>36.799999</td>\n",
       "      <td>34.119999</td>\n",
       "      <td>35.310001</td>\n",
       "      <td>33.007175</td>\n",
       "      <td>883700</td>\n",
       "    </tr>\n",
       "    <tr>\n",
       "      <th>...</th>\n",
       "      <td>...</td>\n",
       "      <td>...</td>\n",
       "      <td>...</td>\n",
       "      <td>...</td>\n",
       "      <td>...</td>\n",
       "      <td>...</td>\n",
       "    </tr>\n",
       "    <tr>\n",
       "      <th>2022-12-23 00:00:00-05:00</th>\n",
       "      <td>4.180000</td>\n",
       "      <td>4.320000</td>\n",
       "      <td>4.150000</td>\n",
       "      <td>4.260000</td>\n",
       "      <td>4.260000</td>\n",
       "      <td>225000</td>\n",
       "    </tr>\n",
       "    <tr>\n",
       "      <th>2022-12-27 00:00:00-05:00</th>\n",
       "      <td>4.230000</td>\n",
       "      <td>4.260000</td>\n",
       "      <td>4.140000</td>\n",
       "      <td>4.210000</td>\n",
       "      <td>4.210000</td>\n",
       "      <td>319200</td>\n",
       "    </tr>\n",
       "    <tr>\n",
       "      <th>2022-12-28 00:00:00-05:00</th>\n",
       "      <td>4.170000</td>\n",
       "      <td>4.300000</td>\n",
       "      <td>4.130000</td>\n",
       "      <td>4.150000</td>\n",
       "      <td>4.150000</td>\n",
       "      <td>239500</td>\n",
       "    </tr>\n",
       "    <tr>\n",
       "      <th>2022-12-29 00:00:00-05:00</th>\n",
       "      <td>4.150000</td>\n",
       "      <td>4.350000</td>\n",
       "      <td>4.110000</td>\n",
       "      <td>4.300000</td>\n",
       "      <td>4.300000</td>\n",
       "      <td>249400</td>\n",
       "    </tr>\n",
       "    <tr>\n",
       "      <th>2022-12-30 00:00:00-05:00</th>\n",
       "      <td>4.210000</td>\n",
       "      <td>4.400000</td>\n",
       "      <td>4.200000</td>\n",
       "      <td>4.310000</td>\n",
       "      <td>4.310000</td>\n",
       "      <td>447700</td>\n",
       "    </tr>\n",
       "  </tbody>\n",
       "</table>\n",
       "<p>2307 rows × 6 columns</p>\n",
       "</div>"
      ],
      "text/plain": [
       "                                Open       High        Low      Close  \\\n",
       "Date                                                                    \n",
       "2013-11-01 00:00:00-04:00  35.000000  37.000000  32.099998  36.200001   \n",
       "2013-11-04 00:00:00-05:00  36.799999  36.799999  34.689999  35.349998   \n",
       "2013-11-05 00:00:00-05:00  35.110001  35.500000  34.820000  35.349998   \n",
       "2013-11-06 00:00:00-05:00  35.610001  36.490002  35.610001  35.900002   \n",
       "2013-11-07 00:00:00-05:00  36.799999  36.799999  34.119999  35.310001   \n",
       "...                              ...        ...        ...        ...   \n",
       "2022-12-23 00:00:00-05:00   4.180000   4.320000   4.150000   4.260000   \n",
       "2022-12-27 00:00:00-05:00   4.230000   4.260000   4.140000   4.210000   \n",
       "2022-12-28 00:00:00-05:00   4.170000   4.300000   4.130000   4.150000   \n",
       "2022-12-29 00:00:00-05:00   4.150000   4.350000   4.110000   4.300000   \n",
       "2022-12-30 00:00:00-05:00   4.210000   4.400000   4.200000   4.310000   \n",
       "\n",
       "                           Adj Close    Volume  \n",
       "Date                                            \n",
       "2013-11-01 00:00:00-04:00  33.839130  14667600  \n",
       "2013-11-04 00:00:00-05:00  33.044563   1586600  \n",
       "2013-11-05 00:00:00-05:00  33.044563    337700  \n",
       "2013-11-06 00:00:00-05:00  33.558697    549600  \n",
       "2013-11-07 00:00:00-05:00  33.007175    883700  \n",
       "...                              ...       ...  \n",
       "2022-12-23 00:00:00-05:00   4.260000    225000  \n",
       "2022-12-27 00:00:00-05:00   4.210000    319200  \n",
       "2022-12-28 00:00:00-05:00   4.150000    239500  \n",
       "2022-12-29 00:00:00-05:00   4.300000    249400  \n",
       "2022-12-30 00:00:00-05:00   4.310000    447700  \n",
       "\n",
       "[2307 rows x 6 columns]"
      ]
     },
     "execution_count": 7,
     "metadata": {},
     "output_type": "execute_result"
    }
   ],
   "source": [
    "stock_data.dropna()"
   ]
  },
  {
   "cell_type": "code",
   "execution_count": 8,
   "id": "950105ca",
   "metadata": {},
   "outputs": [
    {
     "data": {
      "text/plain": [
       "<AxesSubplot:xlabel='Date'>"
      ]
     },
     "execution_count": 8,
     "metadata": {},
     "output_type": "execute_result"
    },
    {
     "data": {
      "image/png": "[encoded data removed]",
      "text/plain": [
       "<Figure size 864x360 with 1 Axes>"
      ]
     },
     "metadata": {
      "needs_background": "light"
     },
     "output_type": "display_data"
    }
   ],
   "source": [
    "stock_data['Close'].plot(figsize=(12,5))"
   ]
  },
  {
   "cell_type": "code",
   "execution_count": 9,
   "id": "a4fc2c88",
   "metadata": {},
   "outputs": [],
   "source": [
    "#check for stationary\n",
    "from statsmodels.tsa.stattools import adfuller\n",
    "def ad_test(dataset):\n",
    "    dftest=adfuller(dataset,autolag='AIC')\n",
    "    print('1. ADF : ',dftest[0])\n",
    "    print('2. P-Value : ',dftest[1])\n",
    "    print('3. Num Of Lags : ',dftest[2])\n",
    "    print('4. Num of Observation Used for ADF : ',dftest[3])\n",
    "    print('5. Critical Values : ')\n",
    "    for key, val in dftest[4].items():\n",
    "        print('\\t',key,':',val)"
   ]
  },
  {
   "cell_type": "code",
   "execution_count": 10,
   "id": "341c4ebf",
   "metadata": {},
   "outputs": [
    {
     "name": "stdout",
     "output_type": "stream",
     "text": [
      "1. ADF :  -3.931358087976772\n",
      "2. P-Value :  0.001815813683793003\n",
      "3. Num Of Lags :  26\n",
      "4. Num of Observation Used for ADF :  2280\n",
      "5. Critical Values : \n",
      "\t 1% : -3.433221349807447\n",
      "\t 5% : -2.862808493298208\n",
      "\t 10% : -2.5674452772006773\n"
     ]
    }
   ],
   "source": [
    "ad_test(stock_data['Close'])"
   ]
  },
  {
   "cell_type": "code",
   "execution_count": 11,
   "id": "a7ff0473",
   "metadata": {},
   "outputs": [],
   "source": [
    "from pmdarima import auto_arima\n",
    "import warnings\n",
    "warnings.filterwarnings('ignore')"
   ]
  },
  {
   "cell_type": "code",
   "execution_count": 12,
   "id": "9366920b",
   "metadata": {},
   "outputs": [
    {
     "name": "stdout",
     "output_type": "stream",
     "text": [
      "Performing stepwise search to minimize aic\n",
      " ARIMA(2,1,2)(0,0,0)[0] intercept   : AIC=3349.223, Time=1.89 sec\n",
      " ARIMA(0,1,0)(0,0,0)[0] intercept   : AIC=3375.658, Time=0.17 sec\n",
      " ARIMA(1,1,0)(0,0,0)[0] intercept   : AIC=3376.819, Time=0.15 sec\n",
      " ARIMA(0,1,1)(0,0,0)[0] intercept   : AIC=3376.655, Time=0.30 sec\n",
      " ARIMA(0,1,0)(0,0,0)[0]             : AIC=3375.403, Time=0.08 sec\n",
      " ARIMA(1,1,2)(0,0,0)[0] intercept   : AIC=3367.145, Time=1.46 sec\n",
      " ARIMA(2,1,1)(0,0,0)[0] intercept   : AIC=3365.198, Time=0.53 sec\n",
      " ARIMA(3,1,2)(0,0,0)[0] intercept   : AIC=3350.736, Time=1.92 sec\n",
      " ARIMA(2,1,3)(0,0,0)[0] intercept   : AIC=3350.573, Time=2.21 sec\n",
      " ARIMA(1,1,1)(0,0,0)[0] intercept   : AIC=3374.249, Time=0.56 sec\n",
      " ARIMA(1,1,3)(0,0,0)[0] intercept   : AIC=3362.126, Time=1.84 sec\n",
      " ARIMA(3,1,1)(0,0,0)[0] intercept   : AIC=3367.194, Time=0.35 sec\n",
      " ARIMA(3,1,3)(0,0,0)[0] intercept   : AIC=3349.186, Time=3.05 sec\n",
      " ARIMA(4,1,3)(0,0,0)[0] intercept   : AIC=3350.309, Time=3.53 sec\n",
      " ARIMA(3,1,4)(0,0,0)[0] intercept   : AIC=3349.957, Time=3.73 sec\n",
      " ARIMA(2,1,4)(0,0,0)[0] intercept   : AIC=3350.335, Time=3.51 sec\n",
      " ARIMA(4,1,2)(0,0,0)[0] intercept   : AIC=3357.827, Time=1.85 sec\n",
      " ARIMA(4,1,4)(0,0,0)[0] intercept   : AIC=3351.764, Time=4.59 sec\n",
      " ARIMA(3,1,3)(0,0,0)[0]             : AIC=3349.260, Time=1.98 sec\n",
      "\n",
      "Best model:  ARIMA(3,1,3)(0,0,0)[0] intercept\n",
      "Total fit time: 33.666 seconds\n"
     ]
    },
    {
     "data": {
      "text/html": [
       "<table class=\"simpletable\">\n",
       "<caption>SARIMAX Results</caption>\n",
       "<tr>\n",
       "  <th>Dep. Variable:</th>           <td>y</td>        <th>  No. Observations:  </th>   <td>2307</td>   \n",
       "</tr>\n",
       "<tr>\n",
       "  <th>Model:</th>           <td>SARIMAX(3, 1, 3)</td> <th>  Log Likelihood     </th> <td>-1666.593</td>\n",
       "</tr>\n",
       "<tr>\n",
       "  <th>Date:</th>            <td>Sun, 19 Feb 2023</td> <th>  AIC                </th> <td>3349.186</td> \n",
       "</tr>\n",
       "<tr>\n",
       "  <th>Time:</th>                <td>17:36:37</td>     <th>  BIC                </th> <td>3395.132</td> \n",
       "</tr>\n",
       "<tr>\n",
       "  <th>Sample:</th>                  <td>0</td>        <th>  HQIC               </th> <td>3365.935</td> \n",
       "</tr>\n",
       "<tr>\n",
       "  <th></th>                      <td> - 2307</td>     <th>                     </th>     <td> </td>    \n",
       "</tr>\n",
       "<tr>\n",
       "  <th>Covariance Type:</th>        <td>opg</td>       <th>                     </th>     <td> </td>    \n",
       "</tr>\n",
       "</table>\n",
       "<table class=\"simpletable\">\n",
       "<tr>\n",
       "      <td></td>         <th>coef</th>     <th>std err</th>      <th>z</th>      <th>P>|z|</th>  <th>[0.025</th>    <th>0.975]</th>  \n",
       "</tr>\n",
       "<tr>\n",
       "  <th>intercept</th> <td>   -0.0106</td> <td>    0.009</td> <td>   -1.117</td> <td> 0.264</td> <td>   -0.029</td> <td>    0.008</td>\n",
       "</tr>\n",
       "<tr>\n",
       "  <th>ar.L1</th>     <td>    0.6144</td> <td>    0.209</td> <td>    2.940</td> <td> 0.003</td> <td>    0.205</td> <td>    1.024</td>\n",
       "</tr>\n",
       "<tr>\n",
       "  <th>ar.L2</th>     <td>   -0.9909</td> <td>    0.004</td> <td> -232.149</td> <td> 0.000</td> <td>   -0.999</td> <td>   -0.983</td>\n",
       "</tr>\n",
       "<tr>\n",
       "  <th>ar.L3</th>     <td>    0.6070</td> <td>    0.206</td> <td>    2.947</td> <td> 0.003</td> <td>    0.203</td> <td>    1.011</td>\n",
       "</tr>\n",
       "<tr>\n",
       "  <th>ma.L1</th>     <td>   -0.6400</td> <td>    0.204</td> <td>   -3.135</td> <td> 0.002</td> <td>   -1.040</td> <td>   -0.240</td>\n",
       "</tr>\n",
       "<tr>\n",
       "  <th>ma.L2</th>     <td>    0.9637</td> <td>    0.008</td> <td>  115.055</td> <td> 0.000</td> <td>    0.947</td> <td>    0.980</td>\n",
       "</tr>\n",
       "<tr>\n",
       "  <th>ma.L3</th>     <td>   -0.6206</td> <td>    0.195</td> <td>   -3.177</td> <td> 0.001</td> <td>   -1.004</td> <td>   -0.238</td>\n",
       "</tr>\n",
       "<tr>\n",
       "  <th>sigma2</th>    <td>    0.2484</td> <td>    0.002</td> <td>  105.087</td> <td> 0.000</td> <td>    0.244</td> <td>    0.253</td>\n",
       "</tr>\n",
       "</table>\n",
       "<table class=\"simpletable\">\n",
       "<tr>\n",
       "  <th>Ljung-Box (L1) (Q):</th>     <td>0.05</td> <th>  Jarque-Bera (JB):  </th> <td>69430.63</td>\n",
       "</tr>\n",
       "<tr>\n",
       "  <th>Prob(Q):</th>                <td>0.82</td> <th>  Prob(JB):          </th>   <td>0.00</td>  \n",
       "</tr>\n",
       "<tr>\n",
       "  <th>Heteroskedasticity (H):</th> <td>0.30</td> <th>  Skew:              </th>   <td>-1.65</td> \n",
       "</tr>\n",
       "<tr>\n",
       "  <th>Prob(H) (two-sided):</th>    <td>0.00</td> <th>  Kurtosis:          </th>   <td>29.68</td> \n",
       "</tr>\n",
       "</table><br/><br/>Warnings:<br/>[1] Covariance matrix calculated using the outer product of gradients (complex-step)."
      ],
      "text/plain": [
       "<class 'statsmodels.iolib.summary.Summary'>\n",
       "\"\"\"\n",
       "                               SARIMAX Results                                \n",
       "==============================================================================\n",
       "Dep. Variable:                      y   No. Observations:                 2307\n",
       "Model:               SARIMAX(3, 1, 3)   Log Likelihood               -1666.593\n",
       "Date:                Sun, 19 Feb 2023   AIC                           3349.186\n",
       "Time:                        17:36:37   BIC                           3395.132\n",
       "Sample:                             0   HQIC                          3365.935\n",
       "                               - 2307                                         \n",
       "Covariance Type:                  opg                                         \n",
       "==============================================================================\n",
       "                 coef    std err          z      P>|z|      [0.025      0.975]\n",
       "------------------------------------------------------------------------------\n",
       "intercept     -0.0106      0.009     -1.117      0.264      -0.029       0.008\n",
       "ar.L1          0.6144      0.209      2.940      0.003       0.205       1.024\n",
       "ar.L2         -0.9909      0.004   -232.149      0.000      -0.999      -0.983\n",
       "ar.L3          0.6070      0.206      2.947      0.003       0.203       1.011\n",
       "ma.L1         -0.6400      0.204     -3.135      0.002      -1.040      -0.240\n",
       "ma.L2          0.9637      0.008    115.055      0.000       0.947       0.980\n",
       "ma.L3         -0.6206      0.195     -3.177      0.001      -1.004      -0.238\n",
       "sigma2         0.2484      0.002    105.087      0.000       0.244       0.253\n",
       "===================================================================================\n",
       "Ljung-Box (L1) (Q):                   0.05   Jarque-Bera (JB):             69430.63\n",
       "Prob(Q):                              0.82   Prob(JB):                         0.00\n",
       "Heteroskedasticity (H):               0.30   Skew:                            -1.65\n",
       "Prob(H) (two-sided):                  0.00   Kurtosis:                        29.68\n",
       "===================================================================================\n",
       "\n",
       "Warnings:\n",
       "[1] Covariance matrix calculated using the outer product of gradients (complex-step).\n",
       "\"\"\""
      ]
     },
     "execution_count": 12,
     "metadata": {},
     "output_type": "execute_result"
    }
   ],
   "source": [
    "stepwise_fit=auto_arima(stock_data['Close'],trace=True,supress_warnings=True)\n",
    "stepwise_fit.summary()"
   ]
  },
  {
   "cell_type": "code",
   "execution_count": 13,
   "id": "138daa42",
   "metadata": {},
   "outputs": [],
   "source": [
    "from statsmodels.tsa.arima.model import ARIMA as ARIMA2"
   ]
  },
  {
   "cell_type": "code",
   "execution_count": 14,
   "id": "411c0167",
   "metadata": {},
   "outputs": [
    {
     "data": {
      "text/plain": [
       "(2307, 6)"
      ]
     },
     "execution_count": 14,
     "metadata": {},
     "output_type": "execute_result"
    }
   ],
   "source": [
    "stock_data.shape"
   ]
  },
  {
   "cell_type": "code",
   "execution_count": 15,
   "id": "6ad3c00a",
   "metadata": {},
   "outputs": [
    {
     "name": "stdout",
     "output_type": "stream",
     "text": [
      "(2227, 6) (20, 6)\n"
     ]
    }
   ],
   "source": [
    "train=stock_data.iloc[:-80]\n",
    "test=stock_data.iloc[-20:]\n",
    "print(train.shape,test.shape)"
   ]
  },
  {
   "cell_type": "code",
   "execution_count": 17,
   "id": "4097535e",
   "metadata": {},
   "outputs": [
    {
     "data": {
      "text/html": [
       "<table class=\"simpletable\">\n",
       "<caption>SARIMAX Results</caption>\n",
       "<tr>\n",
       "  <th>Dep. Variable:</th>         <td>Close</td>      <th>  No. Observations:  </th>   <td>2227</td>   \n",
       "</tr>\n",
       "<tr>\n",
       "  <th>Model:</th>            <td>ARIMA(3, 1, 3)</td>  <th>  Log Likelihood     </th> <td>-1643.095</td>\n",
       "</tr>\n",
       "<tr>\n",
       "  <th>Date:</th>            <td>Sun, 19 Feb 2023</td> <th>  AIC                </th> <td>3300.190</td> \n",
       "</tr>\n",
       "<tr>\n",
       "  <th>Time:</th>                <td>17:37:32</td>     <th>  BIC                </th> <td>3340.146</td> \n",
       "</tr>\n",
       "<tr>\n",
       "  <th>Sample:</th>                  <td>0</td>        <th>  HQIC               </th> <td>3314.781</td> \n",
       "</tr>\n",
       "<tr>\n",
       "  <th></th>                      <td> - 2227</td>     <th>                     </th>     <td> </td>    \n",
       "</tr>\n",
       "<tr>\n",
       "  <th>Covariance Type:</th>        <td>opg</td>       <th>                     </th>     <td> </td>    \n",
       "</tr>\n",
       "</table>\n",
       "<table class=\"simpletable\">\n",
       "<tr>\n",
       "     <td></td>       <th>coef</th>     <th>std err</th>      <th>z</th>      <th>P>|z|</th>  <th>[0.025</th>    <th>0.975]</th>  \n",
       "</tr>\n",
       "<tr>\n",
       "  <th>ar.L1</th>  <td>    0.6079</td> <td>    0.231</td> <td>    2.637</td> <td> 0.008</td> <td>    0.156</td> <td>    1.060</td>\n",
       "</tr>\n",
       "<tr>\n",
       "  <th>ar.L2</th>  <td>   -0.9886</td> <td>    0.005</td> <td> -194.051</td> <td> 0.000</td> <td>   -0.999</td> <td>   -0.979</td>\n",
       "</tr>\n",
       "<tr>\n",
       "  <th>ar.L3</th>  <td>    0.6002</td> <td>    0.227</td> <td>    2.647</td> <td> 0.008</td> <td>    0.156</td> <td>    1.045</td>\n",
       "</tr>\n",
       "<tr>\n",
       "  <th>ma.L1</th>  <td>   -0.6317</td> <td>    0.226</td> <td>   -2.797</td> <td> 0.005</td> <td>   -1.074</td> <td>   -0.189</td>\n",
       "</tr>\n",
       "<tr>\n",
       "  <th>ma.L2</th>  <td>    0.9602</td> <td>    0.010</td> <td>  100.995</td> <td> 0.000</td> <td>    0.942</td> <td>    0.979</td>\n",
       "</tr>\n",
       "<tr>\n",
       "  <th>ma.L3</th>  <td>   -0.6118</td> <td>    0.215</td> <td>   -2.842</td> <td> 0.004</td> <td>   -1.034</td> <td>   -0.190</td>\n",
       "</tr>\n",
       "<tr>\n",
       "  <th>sigma2</th> <td>    0.2562</td> <td>    0.002</td> <td>  106.466</td> <td> 0.000</td> <td>    0.251</td> <td>    0.261</td>\n",
       "</tr>\n",
       "</table>\n",
       "<table class=\"simpletable\">\n",
       "<tr>\n",
       "  <th>Ljung-Box (L1) (Q):</th>     <td>0.02</td> <th>  Jarque-Bera (JB):  </th> <td>64258.86</td>\n",
       "</tr>\n",
       "<tr>\n",
       "  <th>Prob(Q):</th>                <td>0.89</td> <th>  Prob(JB):          </th>   <td>0.00</td>  \n",
       "</tr>\n",
       "<tr>\n",
       "  <th>Heteroskedasticity (H):</th> <td>0.30</td> <th>  Skew:              </th>   <td>-1.65</td> \n",
       "</tr>\n",
       "<tr>\n",
       "  <th>Prob(H) (two-sided):</th>    <td>0.00</td> <th>  Kurtosis:          </th>   <td>29.11</td> \n",
       "</tr>\n",
       "</table><br/><br/>Warnings:<br/>[1] Covariance matrix calculated using the outer product of gradients (complex-step)."
      ],
      "text/plain": [
       "<class 'statsmodels.iolib.summary.Summary'>\n",
       "\"\"\"\n",
       "                               SARIMAX Results                                \n",
       "==============================================================================\n",
       "Dep. Variable:                  Close   No. Observations:                 2227\n",
       "Model:                 ARIMA(3, 1, 3)   Log Likelihood               -1643.095\n",
       "Date:                Sun, 19 Feb 2023   AIC                           3300.190\n",
       "Time:                        17:37:32   BIC                           3340.146\n",
       "Sample:                             0   HQIC                          3314.781\n",
       "                               - 2227                                         \n",
       "Covariance Type:                  opg                                         \n",
       "==============================================================================\n",
       "                 coef    std err          z      P>|z|      [0.025      0.975]\n",
       "------------------------------------------------------------------------------\n",
       "ar.L1          0.6079      0.231      2.637      0.008       0.156       1.060\n",
       "ar.L2         -0.9886      0.005   -194.051      0.000      -0.999      -0.979\n",
       "ar.L3          0.6002      0.227      2.647      0.008       0.156       1.045\n",
       "ma.L1         -0.6317      0.226     -2.797      0.005      -1.074      -0.189\n",
       "ma.L2          0.9602      0.010    100.995      0.000       0.942       0.979\n",
       "ma.L3         -0.6118      0.215     -2.842      0.004      -1.034      -0.190\n",
       "sigma2         0.2562      0.002    106.466      0.000       0.251       0.261\n",
       "===================================================================================\n",
       "Ljung-Box (L1) (Q):                   0.02   Jarque-Bera (JB):             64258.86\n",
       "Prob(Q):                              0.89   Prob(JB):                         0.00\n",
       "Heteroskedasticity (H):               0.30   Skew:                            -1.65\n",
       "Prob(H) (two-sided):                  0.00   Kurtosis:                        29.11\n",
       "===================================================================================\n",
       "\n",
       "Warnings:\n",
       "[1] Covariance matrix calculated using the outer product of gradients (complex-step).\n",
       "\"\"\""
      ]
     },
     "execution_count": 17,
     "metadata": {},
     "output_type": "execute_result"
    }
   ],
   "source": [
    "#train the model\n",
    "model=ARIMA2(train['Close'],order=(3,1,3))\n",
    "model=model.fit()\n",
    "model.summary()"
   ]
  },
  {
   "cell_type": "code",
   "execution_count": 20,
   "id": "af6c3164",
   "metadata": {},
   "outputs": [
    {
     "name": "stdout",
     "output_type": "stream",
     "text": [
      "Date\n",
      "2022-09-08 00:00:00-04:00    6.566616\n",
      "2022-09-09 00:00:00-04:00    6.598592\n",
      "2022-09-12 00:00:00-04:00    6.595274\n",
      "2022-09-13 00:00:00-04:00    6.565617\n",
      "2022-09-14 00:00:00-04:00    6.570060\n",
      "2022-09-15 00:00:00-04:00    6.600087\n",
      "2022-09-16 00:00:00-04:00    6.596150\n",
      "2022-09-19 00:00:00-04:00    6.566739\n",
      "2022-09-20 00:00:00-04:00    6.570773\n",
      "2022-09-21 00:00:00-04:00    6.599938\n",
      "2022-09-22 00:00:00-04:00    6.596028\n",
      "2022-09-23 00:00:00-04:00    6.567240\n",
      "2022-09-26 00:00:00-04:00    6.571109\n",
      "2022-09-27 00:00:00-04:00    6.599573\n",
      "2022-09-28 00:00:00-04:00    6.595774\n",
      "2022-09-29 00:00:00-04:00    6.567648\n",
      "2022-09-30 00:00:00-04:00    6.571389\n",
      "2022-10-03 00:00:00-04:00    6.599187\n",
      "2022-10-04 00:00:00-04:00    6.595508\n",
      "2022-10-05 00:00:00-04:00    6.568036\n",
      "Name: predicted_mean, dtype: float64\n"
     ]
    }
   ],
   "source": [
    "#testing\n",
    "start=len(train)\n",
    "end=len(train)+len(test)-1\n",
    "pred=model.predict(start=start,end=end,typ='levels')\n",
    "pred.index=stock_data.index[start:end+1]\n",
    "print(pred)"
   ]
  },
  {
   "cell_type": "code",
   "execution_count": 21,
   "id": "2c88845f",
   "metadata": {},
   "outputs": [
    {
     "data": {
      "text/plain": [
       "<AxesSubplot:xlabel='Date'>"
      ]
     },
     "execution_count": 21,
     "metadata": {},
     "output_type": "execute_result"
    },
    {
     "data": {
      "image/png": "[encoded data removed]",
      "text/plain": [
       "<Figure size 432x288 with 1 Axes>"
      ]
     },
     "metadata": {
      "needs_background": "light"
     },
     "output_type": "display_data"
    }
   ],
   "source": [
    "pred.plot(legend=True)\n",
    "test['Close'].plot(legend=True)"
   ]
  },
  {
   "cell_type": "code",
   "execution_count": 22,
   "id": "155de9f4",
   "metadata": {},
   "outputs": [
    {
     "data": {
      "text/plain": [
       "4.49050006866455"
      ]
     },
     "execution_count": 22,
     "metadata": {},
     "output_type": "execute_result"
    }
   ],
   "source": [
    "test['Close'].mean()"
   ]
  },
  {
   "cell_type": "code",
   "execution_count": 23,
   "id": "1ab6e1a9",
   "metadata": {},
   "outputs": [],
   "source": [
    "from sklearn.metrics import mean_squared_error\n",
    "from math import sqrt"
   ]
  },
  {
   "cell_type": "code",
   "execution_count": 24,
   "id": "293b9aea",
   "metadata": {},
   "outputs": [],
   "source": [
    "rmse=sqrt(mean_squared_error(pred,test['Close']))"
   ]
  },
  {
   "cell_type": "code",
   "execution_count": 25,
   "id": "f9e433a6",
   "metadata": {},
   "outputs": [
    {
     "name": "stdout",
     "output_type": "stream",
     "text": [
      "2.11318612638245\n"
     ]
    }
   ],
   "source": [
    "print(rmse)"
   ]
  },
  {
   "cell_type": "code",
   "execution_count": 26,
   "id": "6951ce6b",
   "metadata": {},
   "outputs": [],
   "source": [
    "model2=ARIMA2(stock_data['Close'],order=(1,1,3))\n",
    "model2=model2.fit()"
   ]
  },
  {
   "cell_type": "code",
   "execution_count": 27,
   "id": "d15cdc77",
   "metadata": {},
   "outputs": [
    {
     "data": {
      "text/html": [
       "<div>\n",
       "<style scoped>\n",
       "    .dataframe tbody tr th:only-of-type {\n",
       "        vertical-align: middle;\n",
       "    }\n",
       "\n",
       "    .dataframe tbody tr th {\n",
       "        vertical-align: top;\n",
       "    }\n",
       "\n",
       "    .dataframe thead th {\n",
       "        text-align: right;\n",
       "    }\n",
       "</style>\n",
       "<table border=\"1\" class=\"dataframe\">\n",
       "  <thead>\n",
       "    <tr style=\"text-align: right;\">\n",
       "      <th></th>\n",
       "      <th>Open</th>\n",
       "      <th>High</th>\n",
       "      <th>Low</th>\n",
       "      <th>Close</th>\n",
       "      <th>Adj Close</th>\n",
       "      <th>Volume</th>\n",
       "    </tr>\n",
       "    <tr>\n",
       "      <th>Date</th>\n",
       "      <th></th>\n",
       "      <th></th>\n",
       "      <th></th>\n",
       "      <th></th>\n",
       "      <th></th>\n",
       "      <th></th>\n",
       "    </tr>\n",
       "  </thead>\n",
       "  <tbody>\n",
       "    <tr>\n",
       "      <th>2022-12-23 00:00:00-05:00</th>\n",
       "      <td>4.18</td>\n",
       "      <td>4.32</td>\n",
       "      <td>4.15</td>\n",
       "      <td>4.26</td>\n",
       "      <td>4.26</td>\n",
       "      <td>225000</td>\n",
       "    </tr>\n",
       "    <tr>\n",
       "      <th>2022-12-27 00:00:00-05:00</th>\n",
       "      <td>4.23</td>\n",
       "      <td>4.26</td>\n",
       "      <td>4.14</td>\n",
       "      <td>4.21</td>\n",
       "      <td>4.21</td>\n",
       "      <td>319200</td>\n",
       "    </tr>\n",
       "    <tr>\n",
       "      <th>2022-12-28 00:00:00-05:00</th>\n",
       "      <td>4.17</td>\n",
       "      <td>4.30</td>\n",
       "      <td>4.13</td>\n",
       "      <td>4.15</td>\n",
       "      <td>4.15</td>\n",
       "      <td>239500</td>\n",
       "    </tr>\n",
       "    <tr>\n",
       "      <th>2022-12-29 00:00:00-05:00</th>\n",
       "      <td>4.15</td>\n",
       "      <td>4.35</td>\n",
       "      <td>4.11</td>\n",
       "      <td>4.30</td>\n",
       "      <td>4.30</td>\n",
       "      <td>249400</td>\n",
       "    </tr>\n",
       "    <tr>\n",
       "      <th>2022-12-30 00:00:00-05:00</th>\n",
       "      <td>4.21</td>\n",
       "      <td>4.40</td>\n",
       "      <td>4.20</td>\n",
       "      <td>4.31</td>\n",
       "      <td>4.31</td>\n",
       "      <td>447700</td>\n",
       "    </tr>\n",
       "  </tbody>\n",
       "</table>\n",
       "</div>"
      ],
      "text/plain": [
       "                           Open  High   Low  Close  Adj Close  Volume\n",
       "Date                                                                 \n",
       "2022-12-23 00:00:00-05:00  4.18  4.32  4.15   4.26       4.26  225000\n",
       "2022-12-27 00:00:00-05:00  4.23  4.26  4.14   4.21       4.21  319200\n",
       "2022-12-28 00:00:00-05:00  4.17  4.30  4.13   4.15       4.15  239500\n",
       "2022-12-29 00:00:00-05:00  4.15  4.35  4.11   4.30       4.30  249400\n",
       "2022-12-30 00:00:00-05:00  4.21  4.40  4.20   4.31       4.31  447700"
      ]
     },
     "execution_count": 27,
     "metadata": {},
     "output_type": "execute_result"
    }
   ],
   "source": [
    "stock_data.tail()"
   ]
  },
  {
   "cell_type": "code",
   "execution_count": 28,
   "id": "cad2e1e7",
   "metadata": {},
   "outputs": [],
   "source": [
    "pred=model2.predict(start=len(stock_data),end=len(stock_data)+30,typ='levels').rename('ARIMA Predictions')"
   ]
  },
  {
   "cell_type": "code",
   "execution_count": 29,
   "id": "5bf3ecb6",
   "metadata": {},
   "outputs": [
    {
     "name": "stdout",
     "output_type": "stream",
     "text": [
      "2307    4.299484\n",
      "2308    4.298829\n",
      "2309    4.298828\n",
      "2310    4.298828\n",
      "2311    4.298828\n",
      "2312    4.298828\n",
      "2313    4.298828\n",
      "2314    4.298828\n",
      "2315    4.298828\n",
      "2316    4.298828\n",
      "2317    4.298828\n",
      "2318    4.298828\n",
      "2319    4.298828\n",
      "2320    4.298828\n",
      "2321    4.298828\n",
      "2322    4.298828\n",
      "2323    4.298828\n",
      "2324    4.298828\n",
      "2325    4.298828\n",
      "2326    4.298828\n",
      "2327    4.298828\n",
      "2328    4.298828\n",
      "2329    4.298828\n",
      "2330    4.298828\n",
      "2331    4.298828\n",
      "2332    4.298828\n",
      "2333    4.298828\n",
      "2334    4.298828\n",
      "2335    4.298828\n",
      "2336    4.298828\n",
      "2337    4.298828\n",
      "Name: ARIMA Predictions, dtype: float64\n"
     ]
    }
   ],
   "source": [
    "print(pred)"
   ]
  },
  {
   "cell_type": "code",
   "execution_count": 72,
   "id": "5ea68b3a",
   "metadata": {},
   "outputs": [
    {
     "ename": "ValueError",
     "evalue": "could not convert string to Timestamp",
     "output_type": "error",
     "traceback": [
      "\u001b[1;31m---------------------------------------------------------------------------\u001b[0m",
      "\u001b[1;31mParserError\u001b[0m                               Traceback (most recent call last)",
      "File \u001b[1;32mF:\\Python 3.9.7\\lib\\site-packages\\pandas\\_libs\\tslibs\\conversion.pyx:648\u001b[0m, in \u001b[0;36mpandas._libs.tslibs.conversion._convert_str_to_tsobject\u001b[1;34m()\u001b[0m\n",
      "File \u001b[1;32mF:\\Python 3.9.7\\lib\\site-packages\\pandas\\_libs\\tslibs\\parsing.pyx:257\u001b[0m, in \u001b[0;36mpandas._libs.tslibs.parsing.parse_datetime_string\u001b[1;34m()\u001b[0m\n",
      "File \u001b[1;32mF:\\Python 3.9.7\\lib\\site-packages\\dateutil\\parser\\_parser.py:1368\u001b[0m, in \u001b[0;36mparse\u001b[1;34m(timestr, parserinfo, **kwargs)\u001b[0m\n\u001b[0;32m   1367\u001b[0m \u001b[38;5;28;01melse\u001b[39;00m:\n\u001b[1;32m-> 1368\u001b[0m     \u001b[38;5;28;01mreturn\u001b[39;00m DEFAULTPARSER\u001b[38;5;241m.\u001b[39mparse(timestr, \u001b[38;5;241m*\u001b[39m\u001b[38;5;241m*\u001b[39mkwargs)\n",
      "File \u001b[1;32mF:\\Python 3.9.7\\lib\\site-packages\\dateutil\\parser\\_parser.py:643\u001b[0m, in \u001b[0;36mparser.parse\u001b[1;34m(self, timestr, default, ignoretz, tzinfos, **kwargs)\u001b[0m\n\u001b[0;32m    642\u001b[0m \u001b[38;5;28;01mif\u001b[39;00m res \u001b[38;5;129;01mis\u001b[39;00m \u001b[38;5;28;01mNone\u001b[39;00m:\n\u001b[1;32m--> 643\u001b[0m     \u001b[38;5;28;01mraise\u001b[39;00m ParserError(\u001b[38;5;124m\"\u001b[39m\u001b[38;5;124mUnknown string format: \u001b[39m\u001b[38;5;132;01m%s\u001b[39;00m\u001b[38;5;124m\"\u001b[39m, timestr)\n\u001b[0;32m    645\u001b[0m \u001b[38;5;28;01mif\u001b[39;00m \u001b[38;5;28mlen\u001b[39m(res) \u001b[38;5;241m==\u001b[39m \u001b[38;5;241m0\u001b[39m:\n",
      "\u001b[1;31mParserError\u001b[0m: Unknown string format: 2023=01-29",
      "\nDuring handling of the above exception, another exception occurred:\n",
      "\u001b[1;31mValueError\u001b[0m                                Traceback (most recent call last)",
      "Input \u001b[1;32mIn [72]\u001b[0m, in \u001b[0;36m<cell line: 1>\u001b[1;34m()\u001b[0m\n\u001b[1;32m----> 1\u001b[0m make_index\u001b[38;5;241m=\u001b[39m\u001b[43mpd\u001b[49m\u001b[38;5;241;43m.\u001b[39;49m\u001b[43mdate_range\u001b[49m\u001b[43m(\u001b[49m\u001b[43mstart\u001b[49m\u001b[38;5;241;43m=\u001b[39;49m\u001b[38;5;124;43m'\u001b[39;49m\u001b[38;5;124;43m2022-12-30\u001b[39;49m\u001b[38;5;124;43m'\u001b[39;49m\u001b[43m,\u001b[49m\u001b[43mend\u001b[49m\u001b[38;5;241;43m=\u001b[39;49m\u001b[38;5;124;43m'\u001b[39;49m\u001b[38;5;124;43m2023=01-29\u001b[39;49m\u001b[38;5;124;43m'\u001b[39;49m\u001b[43m)\u001b[49m\n\u001b[0;32m      2\u001b[0m pred\u001b[38;5;241m.\u001b[39mindex\u001b[38;5;241m=\u001b[39mmake_index\n",
      "File \u001b[1;32mF:\\Python 3.9.7\\lib\\site-packages\\pandas\\core\\indexes\\datetimes.py:1097\u001b[0m, in \u001b[0;36mdate_range\u001b[1;34m(start, end, periods, freq, tz, normalize, name, closed, **kwargs)\u001b[0m\n\u001b[0;32m   1094\u001b[0m \u001b[38;5;28;01mif\u001b[39;00m freq \u001b[38;5;129;01mis\u001b[39;00m \u001b[38;5;28;01mNone\u001b[39;00m \u001b[38;5;129;01mand\u001b[39;00m com\u001b[38;5;241m.\u001b[39many_none(periods, start, end):\n\u001b[0;32m   1095\u001b[0m     freq \u001b[38;5;241m=\u001b[39m \u001b[38;5;124m\"\u001b[39m\u001b[38;5;124mD\u001b[39m\u001b[38;5;124m\"\u001b[39m\n\u001b[1;32m-> 1097\u001b[0m dtarr \u001b[38;5;241m=\u001b[39m DatetimeArray\u001b[38;5;241m.\u001b[39m_generate_range(\n\u001b[0;32m   1098\u001b[0m     start\u001b[38;5;241m=\u001b[39mstart,\n\u001b[0;32m   1099\u001b[0m     end\u001b[38;5;241m=\u001b[39mend,\n\u001b[0;32m   1100\u001b[0m     periods\u001b[38;5;241m=\u001b[39mperiods,\n\u001b[0;32m   1101\u001b[0m     freq\u001b[38;5;241m=\u001b[39mfreq,\n\u001b[0;32m   1102\u001b[0m     tz\u001b[38;5;241m=\u001b[39mtz,\n\u001b[0;32m   1103\u001b[0m     normalize\u001b[38;5;241m=\u001b[39mnormalize,\n\u001b[0;32m   1104\u001b[0m     closed\u001b[38;5;241m=\u001b[39mclosed,\n\u001b[0;32m   1105\u001b[0m     \u001b[38;5;241m*\u001b[39m\u001b[38;5;241m*\u001b[39mkwargs,\n\u001b[0;32m   1106\u001b[0m )\n\u001b[0;32m   1107\u001b[0m \u001b[38;5;28;01mreturn\u001b[39;00m DatetimeIndex\u001b[38;5;241m.\u001b[39m_simple_new(dtarr, name\u001b[38;5;241m=\u001b[39mname)\n",
      "File \u001b[1;32mF:\\Python 3.9.7\\lib\\site-packages\\pandas\\core\\arrays\\datetimes.py:412\u001b[0m, in \u001b[0;36mDatetimeArray._generate_range\u001b[1;34m(cls, start, end, periods, freq, tz, normalize, ambiguous, nonexistent, closed)\u001b[0m\n\u001b[0;32m    409\u001b[0m     start \u001b[38;5;241m=\u001b[39m Timestamp(start)\n\u001b[0;32m    411\u001b[0m \u001b[38;5;28;01mif\u001b[39;00m end \u001b[38;5;129;01mis\u001b[39;00m \u001b[38;5;129;01mnot\u001b[39;00m \u001b[38;5;28;01mNone\u001b[39;00m:\n\u001b[1;32m--> 412\u001b[0m     end \u001b[38;5;241m=\u001b[39m \u001b[43mTimestamp\u001b[49m\u001b[43m(\u001b[49m\u001b[43mend\u001b[49m\u001b[43m)\u001b[49m\n\u001b[0;32m    414\u001b[0m \u001b[38;5;28;01mif\u001b[39;00m start \u001b[38;5;129;01mis\u001b[39;00m NaT \u001b[38;5;129;01mor\u001b[39;00m end \u001b[38;5;129;01mis\u001b[39;00m NaT:\n\u001b[0;32m    415\u001b[0m     \u001b[38;5;28;01mraise\u001b[39;00m \u001b[38;5;167;01mValueError\u001b[39;00m(\u001b[38;5;124m\"\u001b[39m\u001b[38;5;124mNeither `start` nor `end` can be NaT\u001b[39m\u001b[38;5;124m\"\u001b[39m)\n",
      "File \u001b[1;32mF:\\Python 3.9.7\\lib\\site-packages\\pandas\\_libs\\tslibs\\timestamps.pyx:1332\u001b[0m, in \u001b[0;36mpandas._libs.tslibs.timestamps.Timestamp.__new__\u001b[1;34m()\u001b[0m\n",
      "File \u001b[1;32mF:\\Python 3.9.7\\lib\\site-packages\\pandas\\_libs\\tslibs\\conversion.pyx:407\u001b[0m, in \u001b[0;36mpandas._libs.tslibs.conversion.convert_to_tsobject\u001b[1;34m()\u001b[0m\n",
      "File \u001b[1;32mF:\\Python 3.9.7\\lib\\site-packages\\pandas\\_libs\\tslibs\\conversion.pyx:651\u001b[0m, in \u001b[0;36mpandas._libs.tslibs.conversion._convert_str_to_tsobject\u001b[1;34m()\u001b[0m\n",
      "\u001b[1;31mValueError\u001b[0m: could not convert string to Timestamp"
     ]
    }
   ],
   "source": []
  },
  {
   "cell_type": "code",
   "execution_count": null,
   "id": "4f35f86e",
   "metadata": {},
   "outputs": [],
   "source": []
  }
 ],
 "metadata": {
  "kernelspec": {
   "display_name": "Python 3 (ipykernel)",
   "language": "python",
   "name": "python3"
  },
  "language_info": {
   "codemirror_mode": {
    "name": "ipython",
    "version": 3
   },
   "file_extension": ".py",
   "mimetype": "text/x-python",
   "name": "python",
   "nbconvert_exporter": "python",
   "pygments_lexer": "ipython3",
   "version": "3.9.7"
  }
 },
 "nbformat": 4,
 "nbformat_minor": 5
}
